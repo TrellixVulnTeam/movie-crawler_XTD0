{
 "cells": [
  {
   "cell_type": "code",
   "execution_count": 1,
   "metadata": {
    "collapsed": true
   },
   "outputs": [],
   "source": [
    "import pandas as pd\n",
    "\n",
    "movie_day8_df = pd.read_csv('./day8.csv', encoding='utf-8')"
   ]
  },
  {
   "cell_type": "code",
   "execution_count": 2,
   "metadata": {},
   "outputs": [
    {
     "name": "stdout",
     "output_type": "stream",
     "text": [
      "Wall time: 20.8 s\n"
     ]
    }
   ],
   "source": [
    "%%time\n",
    "new_df = 1\n",
    "director_filmo = pd.DataFrame(columns=(\"code\", \"filmo\",\"movie_code\"))\n",
    "\n",
    "for index,row in movie_day8_df.iterrows():\n",
    "    peopleNm_list = [] ### 매번 비우면서\n",
    "    \n",
    "    if '|' in getattr(row,\"director_name\"):\n",
    "        peopleNm_list = (getattr(row,\"director_code\").split('|'))\n",
    "    else:\n",
    "        peopleNm_list.append(getattr(row,\"director_code\"))\n",
    "        \n",
    "    filmoNames = getattr(row,\"movie_name\")\n",
    "    filmocode = getattr(row,\"movie_code\")\n",
    "    for director in peopleNm_list:\n",
    "        new_df+=1 ## actor_filmo row count\n",
    "        director_filmo.loc[new_df] = [director,filmoNames,filmocode]"
   ]
  },
  {
   "cell_type": "code",
   "execution_count": 1,
   "metadata": {},
   "outputs": [
    {
     "ename": "NameError",
     "evalue": "name 'pd' is not defined",
     "output_type": "error",
     "traceback": [
      "\u001b[1;31m---------------------------------------------------------------------------\u001b[0m",
      "\u001b[1;31mNameError\u001b[0m                                 Traceback (most recent call last)",
      "\u001b[1;32m<ipython-input-1-c6fc06a71074>\u001b[0m in \u001b[0;36m<module>\u001b[1;34m()\u001b[0m\n\u001b[1;32m----> 1\u001b[1;33m \u001b[0mday14_result\u001b[0m \u001b[1;33m=\u001b[0m \u001b[0mpd\u001b[0m\u001b[1;33m.\u001b[0m\u001b[0mread_csv\u001b[0m\u001b[1;33m(\u001b[0m\u001b[1;34m'./14dir_result.csv'\u001b[0m\u001b[1;33m,\u001b[0m \u001b[0mencoding\u001b[0m\u001b[1;33m=\u001b[0m\u001b[1;34m'euc-kr'\u001b[0m\u001b[1;33m)\u001b[0m\u001b[1;33m\u001b[0m\u001b[0m\n\u001b[0m",
      "\u001b[1;31mNameError\u001b[0m: name 'pd' is not defined"
     ]
    }
   ],
   "source": [
    "day14_result = pd.read_csv('./14dir_result.csv', encoding='euc-kr')"
   ]
  },
  {
   "cell_type": "code",
   "execution_count": 4,
   "metadata": {},
   "outputs": [
    {
     "name": "stdout",
     "output_type": "stream",
     "text": [
      "300\n",
      "600\n",
      "900\n",
      "Wall time: 4min 24s\n"
     ]
    }
   ],
   "source": [
    "%%time\n",
    "import aiohttp\n",
    "import asyncio\n",
    "import lxml\n",
    "from aiohttp import ClientSession\n",
    "from bs4 import BeautifulSoup\n",
    "import requests\n",
    "\n",
    "async def fetch(link,director_code,filmo_name,movie_code,index):\n",
    "    async with ClientSession() as session:\n",
    "        async with session.get(link) as response:\n",
    "            html = await response.read()\n",
    "            \n",
    "            soup = BeautifulSoup(html,\"lxml\")\n",
    "\n",
    "            tbody = soup.findAll('em', class_='tl')\n",
    "\n",
    "            result = []\n",
    "\n",
    "            for page in soup.find_all('p',class_='pageList pmt2'):\n",
    "                page_num = list(page.strings)\n",
    "                page_result = [i for i in page_num if i != '\\n']\n",
    "                \n",
    "            for etcParam in page_result:\n",
    "            \n",
    "                url2 = \"http://www.kobis.or.kr/kobis/business/mast/peop/searchPeopleDtl.do?\"\n",
    "\n",
    "                param = \"code=%s&sType=filmo&etcParam=%s\"  % (director_code,etcParam)\n",
    "\n",
    "                link = url2+param\n",
    "\n",
    "                average = await get(link,filmo_name,result)\n",
    "                                \n",
    "                director_average_df.loc[index] = [director_code,\n",
    "                                                  filmo_name,\n",
    "                                                  movie_code,\n",
    "                                                  average\n",
    "                                                 ]\n",
    "async def get(link,filmo_name,result):\n",
    "    async with ClientSession() as session:\n",
    "        async with session.get(link) as response:\n",
    "            \n",
    "            html = await response.read()\n",
    "            \n",
    "            soup = BeautifulSoup(html,\"lxml\")\n",
    "\n",
    "            tr_tag = []\n",
    "            real_tag = []\n",
    "            for count in soup.findAll('dl'):\n",
    "                if any(filmo_name in s for s in list(count.strings)):\n",
    "                    pass\n",
    "                elif any('감독' in x for x in list(count.strings)):\n",
    "    #                 else:\n",
    "                    tr_tag = tr_tag + list(count.strings)\n",
    "\n",
    "            for elem in range(0, len(tr_tag)) :\n",
    "                if tr_tag[elem] == '[공식통계]':\n",
    "                    real_tag.append(tr_tag[elem+3])\n",
    "\n",
    "            real_tag = [w.replace('명','') for w in real_tag] ## 명 없애기\n",
    "            real_tag = [w.replace(',','') for w in real_tag] ## , 없애기\n",
    "    #             real_tag = [w.replace('','0') for w in real_tag] ## , 없애기\n",
    "            real_tag = list(filter(None, real_tag))    ## 빈값 지우기\n",
    "            real_tag = list(map(int,real_tag))\n",
    "\n",
    "            result.extend(real_tag)\n",
    "\n",
    "            return int(average(result))\n",
    "\n",
    "def average(values):\n",
    "    if len(values) == 0:\n",
    "        return 0\n",
    "    return sum(values, 0.0) / len(values)\n",
    "        \n",
    "if __name__ == \"__main__\":\n",
    "    count= 1\n",
    "    length = 300\n",
    "    tasks = []\n",
    "    last = 0\n",
    "    director_average_df = pd.DataFrame(columns=['code','filmo','movie_code','average_audience'])\n",
    "    \n",
    "    loop_director = asyncio.get_event_loop()\n",
    "    \n",
    "    for index,row in director_filmo.iterrows():\n",
    "\n",
    "        filmo_name = getattr(row,'filmo')\n",
    "        filmo_name = filmo_name[1:]\n",
    "        director_code = getattr(row,'code')\n",
    "        movie_code = getattr(row,'movie_code')\n",
    "        \n",
    "        if any(day15_result['movie_name'] == filmo_name):\n",
    "            director_average_df.loc[index] = [director_code,\n",
    "                                              filmo_name,\n",
    "                                              movie_code,\n",
    "                                              day15_result['director_sum'][day15_result['movie_name'] == filmo_name].item()\n",
    "                                             ]\n",
    "        else:\n",
    "            \n",
    "            param = \"code=%s&sType=filmo\"  % (director_code)\n",
    "\n",
    "            url1 = \"http://www.kobis.or.kr/kobis/business/mast/peop/searchPeopleDtl.do?\"\n",
    "\n",
    "            link = url1 + param\n",
    "\n",
    "            task = asyncio.ensure_future(fetch(link,director_code,filmo_name,movie_code,index))\n",
    "            tasks.append(task)\n",
    "\n",
    "            if count == length:\n",
    "                print(count)\n",
    "                loop_director.run_until_complete(asyncio.wait(tasks))\n",
    "                tasks = []\n",
    "                length+=300\n",
    "\n",
    "            if last == len(director_filmo):\n",
    "                loop_director.run_until_complete(asyncio.wait(tasks))\n",
    "                tasks = []\n",
    "                loop_director.close()\n",
    "                \n",
    "            count+=1"
   ]
  },
  {
   "cell_type": "code",
   "execution_count": 8,
   "metadata": {
    "scrolled": true
   },
   "outputs": [
    {
     "name": "stdout",
     "output_type": "stream",
     "text": [
      "max() arg is an empty sequence\n",
      "20137042\n",
      "max() arg is an empty sequence\n",
      "20122227\n",
      "max() arg is an empty sequence\n",
      "20136202\n",
      "max() arg is an empty sequence\n",
      "20136301\n",
      "max() arg is an empty sequence\n",
      "20122233\n",
      "max() arg is an empty sequence\n",
      "20137864\n",
      "max() arg is an empty sequence\n",
      "20137865\n",
      "max() arg is an empty sequence\n",
      "20138125\n",
      "max() arg is an empty sequence\n",
      "20138183\n",
      "max() arg is an empty sequence\n",
      "20124872\n",
      "max() arg is an empty sequence\n",
      "20124609\n",
      "max() arg is an empty sequence\n",
      "20137541\n",
      "max() arg is an empty sequence\n",
      "20137082\n",
      "max() arg is an empty sequence\n",
      "20137373\n",
      "max() arg is an empty sequence\n",
      "20136781\n",
      "max() arg is an empty sequence\n",
      "20137965\n",
      "max() arg is an empty sequence\n",
      "20121097\n",
      "max() arg is an empty sequence\n",
      "20135542\n",
      "max() arg is an empty sequence\n",
      "20137866\n",
      "max() arg is an empty sequence\n",
      "20134066\n",
      "max() arg is an empty sequence\n",
      "20138441\n",
      "max() arg is an empty sequence\n",
      "20138961\n",
      "max() arg is an empty sequence\n",
      "20138343\n",
      "max() arg is an empty sequence\n",
      "20138734\n",
      "max() arg is an empty sequence\n",
      "20137522\n",
      "max() arg is an empty sequence\n",
      "20137862\n",
      "max() arg is an empty sequence\n",
      "20137181\n",
      "max() arg is an empty sequence\n",
      "20138947\n",
      "max() arg is an empty sequence\n",
      "20138402\n",
      "max() arg is an empty sequence\n",
      "20139323\n",
      "max() arg is an empty sequence\n",
      "20139301\n"
     ]
    }
   ],
   "source": [
    "director_sum = pd.DataFrame(columns=['movie_name','director_average'])\n",
    "\n",
    "for index,row in movie_day8_df.iterrows():\n",
    "    movie_code = getattr(row,'movie_code')\n",
    "    movie_name = getattr(row,'movie_name')\n",
    "    try:\n",
    "        director_sum.loc[index] = [movie_name,\n",
    "                                   max(director_average_df['average_audience'][director_average_df['movie_code'] == movie_code])\n",
    "                                  ]\n",
    "    except Exception as e:\n",
    "        print(e)\n",
    "        print(movie_code)\n",
    "        director_sum.loc[index] = [movie_name,'0']"
   ]
  },
  {
   "cell_type": "code",
   "execution_count": 7,
   "metadata": {
    "collapsed": true,
    "scrolled": true
   },
   "outputs": [],
   "source": [
    "director_average_df = pd.read_csv('./8dire_more.csv',encoding='euc-kr')"
   ]
  },
  {
   "cell_type": "code",
   "execution_count": 12,
   "metadata": {
    "collapsed": true
   },
   "outputs": [],
   "source": [
    "del movie_day8_df['director_sum']"
   ]
  },
  {
   "cell_type": "code",
   "execution_count": 13,
   "metadata": {
    "collapsed": true
   },
   "outputs": [],
   "source": [
    "movie_day8_df['director_sum'] = director_average_df['average_audience']"
   ]
  },
  {
   "cell_type": "code",
   "execution_count": 15,
   "metadata": {
    "collapsed": true
   },
   "outputs": [],
   "source": [
    "movie_day8_df.to_csv('./day8.csv', encoding='euc-kr')"
   ]
  },
  {
   "cell_type": "code",
   "execution_count": null,
   "metadata": {
    "collapsed": true
   },
   "outputs": [],
   "source": []
  }
 ],
 "metadata": {
  "kernelspec": {
   "display_name": "Python 3",
   "language": "python",
   "name": "python3"
  },
  "language_info": {
   "codemirror_mode": {
    "name": "ipython",
    "version": 3
   },
   "file_extension": ".py",
   "mimetype": "text/x-python",
   "name": "python",
   "nbconvert_exporter": "python",
   "pygments_lexer": "ipython3",
   "version": "3.6.2"
  }
 },
 "nbformat": 4,
 "nbformat_minor": 2
}
